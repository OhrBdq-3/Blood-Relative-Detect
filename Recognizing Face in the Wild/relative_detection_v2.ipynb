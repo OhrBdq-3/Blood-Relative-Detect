{
 "cells": [
  {
   "cell_type": "code",
   "execution_count": 1,
   "metadata": {},
   "outputs": [],
   "source": [
    "import os\n",
    "import pandas as pd\n",
    "import warnings\n",
    "from PIL import Image\n",
    "import random\n",
    "import torch\n",
    "import torch.nn as nn\n",
    "from torch.utils.data import Dataset,DataLoader\n",
    "from torchvision.transforms import transforms\n",
    "import torchvision.models as models\n",
    "from tqdm import tqdm,trange\n",
    "import matplotlib.pyplot as plt\n",
    "from torch.optim.lr_scheduler import ReduceLROnPlateau\n",
    "from sklearn.metrics import accuracy_score\n",
    "\n",
    "warnings.filterwarnings('ignore')\n",
    "device = 'cuda' if torch.cuda.is_available() else 'cpu'\n",
    "split_char = '/' if os.name == 'posix' else '\\\\'"
   ]
  },
  {
   "cell_type": "code",
   "execution_count": 2,
   "metadata": {},
   "outputs": [
    {
     "name": "stdout",
     "output_type": "stream",
     "text": [
      "<class 'pandas.core.frame.DataFrame'>\n",
      "RangeIndex: 3598 entries, 0 to 3597\n",
      "Data columns (total 2 columns):\n",
      " #   Column  Non-Null Count  Dtype \n",
      "---  ------  --------------  ----- \n",
      " 0   p1      3598 non-null   object\n",
      " 1   p2      3598 non-null   object\n",
      "dtypes: object(2)\n",
      "memory usage: 56.3+ KB\n",
      "Train Positive: 3296, Validation Positive: 302\n"
     ]
    }
   ],
   "source": [
    "label_path = 'train_relationships.csv'\n",
    "label_df = pd.read_csv(label_path)\n",
    "label_df.info()\n",
    "\n",
    "VAL_FAM = \"F09\"\n",
    "\n",
    "# Get all image paths\n",
    "all_img = [os.path.join(root, f) for root, _, files in os.walk('train') for f in files]\n",
    "\n",
    "# Set validation flag and label\n",
    "label_df['val'] = label_df['p1'].str.contains(VAL_FAM).astype(int)\n",
    "label_df['label'] = 1\n",
    "\n",
    "# Count train and validation positive samples\n",
    "train_pos = (label_df['val'] == 0).sum()\n",
    "val_pos = len(label_df) - train_pos\n",
    "\n",
    "print(f\"Train Positive: {train_pos}, Validation Positive: {val_pos}\")"
   ]
  },
  {
   "cell_type": "code",
   "execution_count": 3,
   "metadata": {},
   "outputs": [],
   "source": [
    "def sample_neg(all_img,split_char):\n",
    "    while True:\n",
    "        img1, img2 = random.sample(all_img, 2)\n",
    "        family1, person1 = img1.split(split_char)[1:3]\n",
    "        family2, person2 = img2.split(split_char)[1:3]\n",
    "        if family1 != family2:\n",
    "            return f\"{family1}/{person1}\", f\"{family2}/{person2}\"\n",
    "\n",
    "neg_samples = [sample_neg(all_img,split_char) for _ in range(train_pos)]\n"
   ]
  },
  {
   "cell_type": "code",
   "execution_count": 4,
   "metadata": {},
   "outputs": [],
   "source": [
    "neg_df = pd.DataFrame(neg_samples,columns=['p1','p2'])\n",
    "neg_df['label'] = 0\n",
    "neg_df['val'] = neg_df['p1'].str.contains(VAL_FAM).astype(int)\n",
    "train_neg = neg_df[neg_df['val']==0].count()['p1']\n",
    "val_neg = len(neg_df) - train_neg\n",
    "final_df = pd.concat([label_df,neg_df])"
   ]
  },
  {
   "cell_type": "code",
   "execution_count": 5,
   "metadata": {},
   "outputs": [],
   "source": [
    "def check_dir_exists_and_nonempty(path):\n",
    "    full_path = os.path.join('train', path)\n",
    "    return os.path.isdir(full_path) and len(os.listdir(full_path)) > 0\n",
    "\n",
    "final_df = final_df[\n",
    "    final_df['p1'].apply(check_dir_exists_and_nonempty) &\n",
    "    final_df['p2'].apply(check_dir_exists_and_nonempty)\n",
    "]"
   ]
  },
  {
   "cell_type": "code",
   "execution_count": 6,
   "metadata": {},
   "outputs": [
    {
     "name": "stdout",
     "output_type": "stream",
     "text": [
      "Train Positive: 3296, Train Negative: 2969\n",
      "Validation Positive: 302, Validation Negative: 327\n"
     ]
    }
   ],
   "source": [
    "train_df = final_df[final_df['val']==0]\n",
    "val_df = final_df[final_df['val']==1]\n",
    "\n",
    "print(f\"Train Positive: {train_pos}, Train Negative: {train_neg}\")\n",
    "print(f\"Validation Positive: {val_pos}, Validation Negative: {val_neg}\")"
   ]
  },
  {
   "cell_type": "code",
   "execution_count": 7,
   "metadata": {},
   "outputs": [],
   "source": [
    "train_transformation = transforms.Compose([\n",
    "                                     transforms.Resize(255),\n",
    "                                     transforms.RandomCrop(224),\n",
    "                                     transforms.RandomHorizontalFlip(),\n",
    "                                     transforms.ToTensor(),\n",
    "                                     transforms.Normalize(mean=[0.485, 0.456, 0.406], std=[0.229, 0.224, 0.225]),\n",
    "                                     transforms.RandomErasing(),\n",
    "                                    ])\n",
    "valid_transformation = transforms.Compose([\n",
    "                                     transforms.ToTensor(),\n",
    "                                     transforms.Normalize(mean=[0.485, 0.456, 0.406], std=[0.229, 0.224, 0.225])\n",
    "                                    ])"
   ]
  },
  {
   "cell_type": "code",
   "execution_count": 8,
   "metadata": {},
   "outputs": [],
   "source": [
    "class MyDataset(Dataset):\n",
    "    def __init__(self,root_path,df,transforms=None):\n",
    "        super(MyDataset,self).__init__()\n",
    "        self.df = df\n",
    "        self.root_path = root_path\n",
    "        self.transforms = transforms\n",
    "    \n",
    "    def __len__(self):\n",
    "        return len(self.df)\n",
    "    \n",
    "    def __getitem__(self,idx):\n",
    "        p1 = self.df.iloc[idx]['p1']\n",
    "        p2 = self.df.iloc[idx]['p2']\n",
    "        label = self.df.iloc[idx]['label']\n",
    "        \n",
    "        p1_path = os.path.join(self.root_path,p1)\n",
    "        p2_path = os.path.join(self.root_path,p2)\n",
    "        \n",
    "        p1_sample = random.sample([os.path.join(p1_path,img) for img in os.listdir(p1_path)],1)[0]\n",
    "        p2_sample = random.sample([os.path.join(p2_path,img) for img in os.listdir(p2_path)],1)[0]\n",
    "            \n",
    "        img1 = Image.open(p1_sample).convert('RGB')\n",
    "        img2 = Image.open(p2_sample).convert('RGB')\n",
    "        \n",
    "        if self.transforms:\n",
    "            img1 = self.transforms(img1)\n",
    "            img2 = self.transforms(img2)\n",
    "            \n",
    "        return img1,img2,label\n",
    "    \n",
    "img_root = 'train'\n",
    "train_data = MyDataset(img_root,train_df,train_transformation)\n",
    "val_data = MyDataset(img_root,val_df,valid_transformation)"
   ]
  },
  {
   "cell_type": "code",
   "execution_count": 9,
   "metadata": {},
   "outputs": [
    {
     "data": {
      "text/plain": [
       "Sequential(\n",
       "  (0): Conv2d(3, 64, kernel_size=(7, 7), stride=(2, 2), padding=(3, 3), bias=False)\n",
       "  (1): BatchNorm2d(64, eps=1e-05, momentum=0.1, affine=True, track_running_stats=True)\n",
       "  (2): ReLU(inplace=True)\n",
       "  (3): MaxPool2d(kernel_size=3, stride=2, padding=1, dilation=1, ceil_mode=False)\n",
       "  (4): Sequential(\n",
       "    (0): Bottleneck(\n",
       "      (conv1): Conv2d(64, 64, kernel_size=(1, 1), stride=(1, 1), bias=False)\n",
       "      (bn1): BatchNorm2d(64, eps=1e-05, momentum=0.1, affine=True, track_running_stats=True)\n",
       "      (conv2): Conv2d(64, 64, kernel_size=(3, 3), stride=(1, 1), padding=(1, 1), bias=False)\n",
       "      (bn2): BatchNorm2d(64, eps=1e-05, momentum=0.1, affine=True, track_running_stats=True)\n",
       "      (conv3): Conv2d(64, 256, kernel_size=(1, 1), stride=(1, 1), bias=False)\n",
       "      (bn3): BatchNorm2d(256, eps=1e-05, momentum=0.1, affine=True, track_running_stats=True)\n",
       "      (relu): ReLU(inplace=True)\n",
       "      (downsample): Sequential(\n",
       "        (0): Conv2d(64, 256, kernel_size=(1, 1), stride=(1, 1), bias=False)\n",
       "        (1): BatchNorm2d(256, eps=1e-05, momentum=0.1, affine=True, track_running_stats=True)\n",
       "      )\n",
       "    )\n",
       "    (1): Bottleneck(\n",
       "      (conv1): Conv2d(256, 64, kernel_size=(1, 1), stride=(1, 1), bias=False)\n",
       "      (bn1): BatchNorm2d(64, eps=1e-05, momentum=0.1, affine=True, track_running_stats=True)\n",
       "      (conv2): Conv2d(64, 64, kernel_size=(3, 3), stride=(1, 1), padding=(1, 1), bias=False)\n",
       "      (bn2): BatchNorm2d(64, eps=1e-05, momentum=0.1, affine=True, track_running_stats=True)\n",
       "      (conv3): Conv2d(64, 256, kernel_size=(1, 1), stride=(1, 1), bias=False)\n",
       "      (bn3): BatchNorm2d(256, eps=1e-05, momentum=0.1, affine=True, track_running_stats=True)\n",
       "      (relu): ReLU(inplace=True)\n",
       "    )\n",
       "    (2): Bottleneck(\n",
       "      (conv1): Conv2d(256, 64, kernel_size=(1, 1), stride=(1, 1), bias=False)\n",
       "      (bn1): BatchNorm2d(64, eps=1e-05, momentum=0.1, affine=True, track_running_stats=True)\n",
       "      (conv2): Conv2d(64, 64, kernel_size=(3, 3), stride=(1, 1), padding=(1, 1), bias=False)\n",
       "      (bn2): BatchNorm2d(64, eps=1e-05, momentum=0.1, affine=True, track_running_stats=True)\n",
       "      (conv3): Conv2d(64, 256, kernel_size=(1, 1), stride=(1, 1), bias=False)\n",
       "      (bn3): BatchNorm2d(256, eps=1e-05, momentum=0.1, affine=True, track_running_stats=True)\n",
       "      (relu): ReLU(inplace=True)\n",
       "    )\n",
       "  )\n",
       "  (5): Sequential(\n",
       "    (0): Bottleneck(\n",
       "      (conv1): Conv2d(256, 128, kernel_size=(1, 1), stride=(1, 1), bias=False)\n",
       "      (bn1): BatchNorm2d(128, eps=1e-05, momentum=0.1, affine=True, track_running_stats=True)\n",
       "      (conv2): Conv2d(128, 128, kernel_size=(3, 3), stride=(2, 2), padding=(1, 1), bias=False)\n",
       "      (bn2): BatchNorm2d(128, eps=1e-05, momentum=0.1, affine=True, track_running_stats=True)\n",
       "      (conv3): Conv2d(128, 512, kernel_size=(1, 1), stride=(1, 1), bias=False)\n",
       "      (bn3): BatchNorm2d(512, eps=1e-05, momentum=0.1, affine=True, track_running_stats=True)\n",
       "      (relu): ReLU(inplace=True)\n",
       "      (downsample): Sequential(\n",
       "        (0): Conv2d(256, 512, kernel_size=(1, 1), stride=(2, 2), bias=False)\n",
       "        (1): BatchNorm2d(512, eps=1e-05, momentum=0.1, affine=True, track_running_stats=True)\n",
       "      )\n",
       "    )\n",
       "    (1): Bottleneck(\n",
       "      (conv1): Conv2d(512, 128, kernel_size=(1, 1), stride=(1, 1), bias=False)\n",
       "      (bn1): BatchNorm2d(128, eps=1e-05, momentum=0.1, affine=True, track_running_stats=True)\n",
       "      (conv2): Conv2d(128, 128, kernel_size=(3, 3), stride=(1, 1), padding=(1, 1), bias=False)\n",
       "      (bn2): BatchNorm2d(128, eps=1e-05, momentum=0.1, affine=True, track_running_stats=True)\n",
       "      (conv3): Conv2d(128, 512, kernel_size=(1, 1), stride=(1, 1), bias=False)\n",
       "      (bn3): BatchNorm2d(512, eps=1e-05, momentum=0.1, affine=True, track_running_stats=True)\n",
       "      (relu): ReLU(inplace=True)\n",
       "    )\n",
       "    (2): Bottleneck(\n",
       "      (conv1): Conv2d(512, 128, kernel_size=(1, 1), stride=(1, 1), bias=False)\n",
       "      (bn1): BatchNorm2d(128, eps=1e-05, momentum=0.1, affine=True, track_running_stats=True)\n",
       "      (conv2): Conv2d(128, 128, kernel_size=(3, 3), stride=(1, 1), padding=(1, 1), bias=False)\n",
       "      (bn2): BatchNorm2d(128, eps=1e-05, momentum=0.1, affine=True, track_running_stats=True)\n",
       "      (conv3): Conv2d(128, 512, kernel_size=(1, 1), stride=(1, 1), bias=False)\n",
       "      (bn3): BatchNorm2d(512, eps=1e-05, momentum=0.1, affine=True, track_running_stats=True)\n",
       "      (relu): ReLU(inplace=True)\n",
       "    )\n",
       "    (3): Bottleneck(\n",
       "      (conv1): Conv2d(512, 128, kernel_size=(1, 1), stride=(1, 1), bias=False)\n",
       "      (bn1): BatchNorm2d(128, eps=1e-05, momentum=0.1, affine=True, track_running_stats=True)\n",
       "      (conv2): Conv2d(128, 128, kernel_size=(3, 3), stride=(1, 1), padding=(1, 1), bias=False)\n",
       "      (bn2): BatchNorm2d(128, eps=1e-05, momentum=0.1, affine=True, track_running_stats=True)\n",
       "      (conv3): Conv2d(128, 512, kernel_size=(1, 1), stride=(1, 1), bias=False)\n",
       "      (bn3): BatchNorm2d(512, eps=1e-05, momentum=0.1, affine=True, track_running_stats=True)\n",
       "      (relu): ReLU(inplace=True)\n",
       "    )\n",
       "  )\n",
       "  (6): Sequential(\n",
       "    (0): Bottleneck(\n",
       "      (conv1): Conv2d(512, 256, kernel_size=(1, 1), stride=(1, 1), bias=False)\n",
       "      (bn1): BatchNorm2d(256, eps=1e-05, momentum=0.1, affine=True, track_running_stats=True)\n",
       "      (conv2): Conv2d(256, 256, kernel_size=(3, 3), stride=(2, 2), padding=(1, 1), bias=False)\n",
       "      (bn2): BatchNorm2d(256, eps=1e-05, momentum=0.1, affine=True, track_running_stats=True)\n",
       "      (conv3): Conv2d(256, 1024, kernel_size=(1, 1), stride=(1, 1), bias=False)\n",
       "      (bn3): BatchNorm2d(1024, eps=1e-05, momentum=0.1, affine=True, track_running_stats=True)\n",
       "      (relu): ReLU(inplace=True)\n",
       "      (downsample): Sequential(\n",
       "        (0): Conv2d(512, 1024, kernel_size=(1, 1), stride=(2, 2), bias=False)\n",
       "        (1): BatchNorm2d(1024, eps=1e-05, momentum=0.1, affine=True, track_running_stats=True)\n",
       "      )\n",
       "    )\n",
       "    (1): Bottleneck(\n",
       "      (conv1): Conv2d(1024, 256, kernel_size=(1, 1), stride=(1, 1), bias=False)\n",
       "      (bn1): BatchNorm2d(256, eps=1e-05, momentum=0.1, affine=True, track_running_stats=True)\n",
       "      (conv2): Conv2d(256, 256, kernel_size=(3, 3), stride=(1, 1), padding=(1, 1), bias=False)\n",
       "      (bn2): BatchNorm2d(256, eps=1e-05, momentum=0.1, affine=True, track_running_stats=True)\n",
       "      (conv3): Conv2d(256, 1024, kernel_size=(1, 1), stride=(1, 1), bias=False)\n",
       "      (bn3): BatchNorm2d(1024, eps=1e-05, momentum=0.1, affine=True, track_running_stats=True)\n",
       "      (relu): ReLU(inplace=True)\n",
       "    )\n",
       "    (2): Bottleneck(\n",
       "      (conv1): Conv2d(1024, 256, kernel_size=(1, 1), stride=(1, 1), bias=False)\n",
       "      (bn1): BatchNorm2d(256, eps=1e-05, momentum=0.1, affine=True, track_running_stats=True)\n",
       "      (conv2): Conv2d(256, 256, kernel_size=(3, 3), stride=(1, 1), padding=(1, 1), bias=False)\n",
       "      (bn2): BatchNorm2d(256, eps=1e-05, momentum=0.1, affine=True, track_running_stats=True)\n",
       "      (conv3): Conv2d(256, 1024, kernel_size=(1, 1), stride=(1, 1), bias=False)\n",
       "      (bn3): BatchNorm2d(1024, eps=1e-05, momentum=0.1, affine=True, track_running_stats=True)\n",
       "      (relu): ReLU(inplace=True)\n",
       "    )\n",
       "    (3): Bottleneck(\n",
       "      (conv1): Conv2d(1024, 256, kernel_size=(1, 1), stride=(1, 1), bias=False)\n",
       "      (bn1): BatchNorm2d(256, eps=1e-05, momentum=0.1, affine=True, track_running_stats=True)\n",
       "      (conv2): Conv2d(256, 256, kernel_size=(3, 3), stride=(1, 1), padding=(1, 1), bias=False)\n",
       "      (bn2): BatchNorm2d(256, eps=1e-05, momentum=0.1, affine=True, track_running_stats=True)\n",
       "      (conv3): Conv2d(256, 1024, kernel_size=(1, 1), stride=(1, 1), bias=False)\n",
       "      (bn3): BatchNorm2d(1024, eps=1e-05, momentum=0.1, affine=True, track_running_stats=True)\n",
       "      (relu): ReLU(inplace=True)\n",
       "    )\n",
       "    (4): Bottleneck(\n",
       "      (conv1): Conv2d(1024, 256, kernel_size=(1, 1), stride=(1, 1), bias=False)\n",
       "      (bn1): BatchNorm2d(256, eps=1e-05, momentum=0.1, affine=True, track_running_stats=True)\n",
       "      (conv2): Conv2d(256, 256, kernel_size=(3, 3), stride=(1, 1), padding=(1, 1), bias=False)\n",
       "      (bn2): BatchNorm2d(256, eps=1e-05, momentum=0.1, affine=True, track_running_stats=True)\n",
       "      (conv3): Conv2d(256, 1024, kernel_size=(1, 1), stride=(1, 1), bias=False)\n",
       "      (bn3): BatchNorm2d(1024, eps=1e-05, momentum=0.1, affine=True, track_running_stats=True)\n",
       "      (relu): ReLU(inplace=True)\n",
       "    )\n",
       "    (5): Bottleneck(\n",
       "      (conv1): Conv2d(1024, 256, kernel_size=(1, 1), stride=(1, 1), bias=False)\n",
       "      (bn1): BatchNorm2d(256, eps=1e-05, momentum=0.1, affine=True, track_running_stats=True)\n",
       "      (conv2): Conv2d(256, 256, kernel_size=(3, 3), stride=(1, 1), padding=(1, 1), bias=False)\n",
       "      (bn2): BatchNorm2d(256, eps=1e-05, momentum=0.1, affine=True, track_running_stats=True)\n",
       "      (conv3): Conv2d(256, 1024, kernel_size=(1, 1), stride=(1, 1), bias=False)\n",
       "      (bn3): BatchNorm2d(1024, eps=1e-05, momentum=0.1, affine=True, track_running_stats=True)\n",
       "      (relu): ReLU(inplace=True)\n",
       "    )\n",
       "  )\n",
       "  (7): Sequential(\n",
       "    (0): Bottleneck(\n",
       "      (conv1): Conv2d(1024, 512, kernel_size=(1, 1), stride=(1, 1), bias=False)\n",
       "      (bn1): BatchNorm2d(512, eps=1e-05, momentum=0.1, affine=True, track_running_stats=True)\n",
       "      (conv2): Conv2d(512, 512, kernel_size=(3, 3), stride=(2, 2), padding=(1, 1), bias=False)\n",
       "      (bn2): BatchNorm2d(512, eps=1e-05, momentum=0.1, affine=True, track_running_stats=True)\n",
       "      (conv3): Conv2d(512, 2048, kernel_size=(1, 1), stride=(1, 1), bias=False)\n",
       "      (bn3): BatchNorm2d(2048, eps=1e-05, momentum=0.1, affine=True, track_running_stats=True)\n",
       "      (relu): ReLU(inplace=True)\n",
       "      (downsample): Sequential(\n",
       "        (0): Conv2d(1024, 2048, kernel_size=(1, 1), stride=(2, 2), bias=False)\n",
       "        (1): BatchNorm2d(2048, eps=1e-05, momentum=0.1, affine=True, track_running_stats=True)\n",
       "      )\n",
       "    )\n",
       "    (1): Bottleneck(\n",
       "      (conv1): Conv2d(2048, 512, kernel_size=(1, 1), stride=(1, 1), bias=False)\n",
       "      (bn1): BatchNorm2d(512, eps=1e-05, momentum=0.1, affine=True, track_running_stats=True)\n",
       "      (conv2): Conv2d(512, 512, kernel_size=(3, 3), stride=(1, 1), padding=(1, 1), bias=False)\n",
       "      (bn2): BatchNorm2d(512, eps=1e-05, momentum=0.1, affine=True, track_running_stats=True)\n",
       "      (conv3): Conv2d(512, 2048, kernel_size=(1, 1), stride=(1, 1), bias=False)\n",
       "      (bn3): BatchNorm2d(2048, eps=1e-05, momentum=0.1, affine=True, track_running_stats=True)\n",
       "      (relu): ReLU(inplace=True)\n",
       "    )\n",
       "    (2): Bottleneck(\n",
       "      (conv1): Conv2d(2048, 512, kernel_size=(1, 1), stride=(1, 1), bias=False)\n",
       "      (bn1): BatchNorm2d(512, eps=1e-05, momentum=0.1, affine=True, track_running_stats=True)\n",
       "      (conv2): Conv2d(512, 512, kernel_size=(3, 3), stride=(1, 1), padding=(1, 1), bias=False)\n",
       "      (bn2): BatchNorm2d(512, eps=1e-05, momentum=0.1, affine=True, track_running_stats=True)\n",
       "      (conv3): Conv2d(512, 2048, kernel_size=(1, 1), stride=(1, 1), bias=False)\n",
       "      (bn3): BatchNorm2d(2048, eps=1e-05, momentum=0.1, affine=True, track_running_stats=True)\n",
       "      (relu): ReLU(inplace=True)\n",
       "    )\n",
       "  )\n",
       "  (8): AdaptiveAvgPool2d(output_size=(1, 1))\n",
       ")"
      ]
     },
     "execution_count": 9,
     "metadata": {},
     "output_type": "execute_result"
    }
   ],
   "source": [
    "weights_path = 'resnet50-0676ba61.pth'\n",
    "resnet = models.resnet50()\n",
    "resnet.load_state_dict(torch.load(weights_path))\n",
    "resnet_truncated = torch.nn.Sequential(*list(resnet.children())[:-1])\n",
    "resnet_truncated.eval()"
   ]
  },
  {
   "cell_type": "code",
   "execution_count": 10,
   "metadata": {},
   "outputs": [],
   "source": [
    "class SiameseNet(nn.Module):\n",
    "    def __init__(self, base_model):\n",
    "        super(SiameseNet, self).__init__()\n",
    "        self.base_model = base_model\n",
    "        self.feature_dim = 2048  # Assuming ResNet50 output\n",
    "\n",
    "        self.fc = nn.Sequential(\n",
    "            nn.Linear(self.feature_dim * 4, 512),\n",
    "            nn.ReLU(),\n",
    "            nn.BatchNorm1d(512),\n",
    "            nn.Dropout(0.5),\n",
    "            nn.Linear(512, 128),\n",
    "            nn.ReLU(),\n",
    "            nn.BatchNorm1d(128),\n",
    "            nn.Dropout(0.3),\n",
    "            nn.Linear(128, 2)\n",
    "        )\n",
    "    \n",
    "    def forward(self, img1, img2):\n",
    "        feat1 = self.base_model(img1).view(-1, self.feature_dim)\n",
    "        feat2 = self.base_model(img2).view(-1, self.feature_dim)\n",
    "        feat1 = feat1 * 2\n",
    "        feat2 = feat2 * 2\n",
    "\n",
    "        abs_diff = torch.abs(feat1 - feat2)\n",
    "        prod = feat1 * feat2\n",
    "        combined_features = torch.cat([feat1, feat2, abs_diff, prod], dim=1)\n",
    "\n",
    "        return self.fc(combined_features)"
   ]
  },
  {
   "cell_type": "code",
   "execution_count": 11,
   "metadata": {},
   "outputs": [],
   "source": [
    "def train_epoch(model, train_loader, criterion, optimizer, device, config):\n",
    "    model.train()\n",
    "    total_num = 0\n",
    "    corrected_num = 0\n",
    "    total_loss = 0\n",
    "    \n",
    "    for train_img1, train_img2, train_label in tqdm(train_loader, desc=\"Training\",total = len(train_loader)//config['batch_size']):\n",
    "        train_img1, train_img2, train_label = train_img1.to(device), train_img2.to(device), train_label.to(device)\n",
    "        \n",
    "        optimizer.zero_grad()\n",
    "        output = model(train_img1, train_img2)\n",
    "        loss = criterion(output, train_label)\n",
    "        loss.backward()\n",
    "        optimizer.step()\n",
    "        \n",
    "        total_num += train_label.shape[0]\n",
    "        total_loss += train_label.shape[0] * loss.item()\n",
    "        predicted = output.argmax(dim=-1)\n",
    "        corrected_num += (predicted == train_label).sum().item()\n",
    "    \n",
    "    return total_loss / total_num, corrected_num / total_num\n",
    "\n",
    "def validate(model, val_loader, criterion, device,config):\n",
    "    model.eval()\n",
    "    val_num = 0\n",
    "    val_correct = 0\n",
    "    val_loss = 0\n",
    "    \n",
    "    with torch.no_grad():\n",
    "        for val_img1, val_img2, val_label in tqdm(val_loader, desc=\"Validating\",total = len(val_loader)//config['batch_size']):\n",
    "            val_img1, val_img2, val_label = val_img1.to(device), val_img2.to(device), val_label.to(device)\n",
    "            val_output = model(val_img1, val_img2)\n",
    "            val_loss += criterion(val_output, val_label).item() * val_label.shape[0]\n",
    "            val_predicted = val_output.argmax(dim=-1)\n",
    "            val_correct += (val_predicted == val_label).sum().item()\n",
    "            val_num += val_label.shape[0]\n",
    "    \n",
    "    return val_loss / val_num, val_correct / val_num\n",
    "\n",
    "def train_model(model, train_loader, val_loader, config):\n",
    "    device = config['device']\n",
    "    model = model.to(device)\n",
    "    criterion = torch.nn.CrossEntropyLoss()\n",
    "    optimizer = torch.optim.Adam(model.parameters(), lr=config['learning_rate'], weight_decay=config['weight_decay'])\n",
    "    scheduler = ReduceLROnPlateau(optimizer, mode='min', factor=0.1, patience=3, verbose=True)\n",
    "\n",
    "    train_loss_plot, train_acc_plot = [], []\n",
    "    val_loss_plot, val_acc_plot = [], []\n",
    "    best_val_loss = float('inf')\n",
    "\n",
    "    for epoch in trange(config['epochs'], desc=\"Epochs\"):\n",
    "        train_loss, train_acc = train_epoch(model, train_loader, criterion, optimizer, device, config)\n",
    "        val_loss, val_acc = validate(model, val_loader, criterion, device, config)\n",
    "        \n",
    "        scheduler.step(val_loss)\n",
    "        \n",
    "        train_loss_plot.append(train_loss)\n",
    "        train_acc_plot.append(train_acc)\n",
    "        val_loss_plot.append(val_loss)\n",
    "        val_acc_plot.append(val_acc)\n",
    "\n",
    "        print(f'Epoch: {epoch+1}: Train Loss: {train_loss:.4f} Train Acc: {train_acc:.4f} Val Loss: {val_loss:.4f} Val Acc: {val_acc:.4f}')\n",
    "        \n",
    "        if val_loss < best_val_loss:\n",
    "            best_val_loss = val_loss\n",
    "            torch.save(model.state_dict(), config['save_path'])\n",
    "            print(f\"Model saved to '{config['save_path']}'\")\n",
    "    \n",
    "    return train_loss_plot, train_acc_plot, val_loss_plot, val_acc_plot"
   ]
  },
  {
   "cell_type": "code",
   "execution_count": 12,
   "metadata": {},
   "outputs": [
    {
     "name": "stderr",
     "output_type": "stream",
     "text": [
      "Training: 95it [01:04,  1.47it/s]:00<?, ?it/s]\n",
      "Validating: 10it [00:02,  3.85it/s]\n",
      "Epochs:   5%|▌         | 1/20 [01:07<21:23, 67.57s/it]"
     ]
    },
    {
     "name": "stdout",
     "output_type": "stream",
     "text": [
      "Epoch: 1: Train Loss: 0.7064 Train Acc: 0.5917 Val Loss: 0.6175 Val Acc: 0.6629\n",
      "Model saved to 'SiameseNet_best.pth'\n"
     ]
    },
    {
     "name": "stderr",
     "output_type": "stream",
     "text": [
      "Training: 95it [01:04,  1.48it/s]\n",
      "Validating: 10it [00:02,  3.94it/s]\n",
      "Epochs:  10%|█         | 2/20 [02:14<20:05, 66.97s/it]"
     ]
    },
    {
     "name": "stdout",
     "output_type": "stream",
     "text": [
      "Epoch: 2: Train Loss: 0.6543 Train Acc: 0.6348 Val Loss: 0.6333 Val Acc: 0.6517\n"
     ]
    },
    {
     "name": "stderr",
     "output_type": "stream",
     "text": [
      "Training: 95it [01:04,  1.47it/s]\n",
      "Validating: 10it [00:02,  3.93it/s]\n",
      "Epochs:  15%|█▌        | 3/20 [03:21<18:59, 67.05s/it]"
     ]
    },
    {
     "name": "stdout",
     "output_type": "stream",
     "text": [
      "Epoch: 3: Train Loss: 0.6187 Train Acc: 0.6601 Val Loss: 0.5765 Val Acc: 0.7030\n",
      "Model saved to 'SiameseNet_best.pth'\n"
     ]
    },
    {
     "name": "stderr",
     "output_type": "stream",
     "text": [
      "Training: 95it [01:04,  1.47it/s]\n",
      "Validating: 10it [00:02,  3.86it/s]\n",
      "Epochs:  20%|██        | 4/20 [04:28<17:52, 67.03s/it]"
     ]
    },
    {
     "name": "stdout",
     "output_type": "stream",
     "text": [
      "Epoch: 4: Train Loss: 0.5855 Train Acc: 0.6873 Val Loss: 0.5784 Val Acc: 0.7063\n"
     ]
    },
    {
     "name": "stderr",
     "output_type": "stream",
     "text": [
      "Training: 95it [01:04,  1.47it/s]\n",
      "Validating: 10it [00:02,  3.92it/s]\n",
      "Epochs:  25%|██▌       | 5/20 [05:35<16:46, 67.09s/it]"
     ]
    },
    {
     "name": "stdout",
     "output_type": "stream",
     "text": [
      "Epoch: 5: Train Loss: 0.5760 Train Acc: 0.6938 Val Loss: 0.5745 Val Acc: 0.6934\n",
      "Model saved to 'SiameseNet_best.pth'\n"
     ]
    },
    {
     "name": "stderr",
     "output_type": "stream",
     "text": [
      "Training: 95it [01:04,  1.47it/s]\n",
      "Validating: 10it [00:02,  3.96it/s]\n",
      "Epochs:  30%|███       | 6/20 [06:42<15:39, 67.13s/it]"
     ]
    },
    {
     "name": "stdout",
     "output_type": "stream",
     "text": [
      "Epoch: 6: Train Loss: 0.5702 Train Acc: 0.7052 Val Loss: 0.5562 Val Acc: 0.7175\n",
      "Model saved to 'SiameseNet_best.pth'\n"
     ]
    },
    {
     "name": "stderr",
     "output_type": "stream",
     "text": [
      "Training: 95it [01:04,  1.48it/s]\n",
      "Validating: 10it [00:02,  3.96it/s]\n",
      "Epochs:  35%|███▌      | 7/20 [07:49<14:31, 67.04s/it]"
     ]
    },
    {
     "name": "stdout",
     "output_type": "stream",
     "text": [
      "Epoch: 7: Train Loss: 0.5436 Train Acc: 0.7205 Val Loss: 0.5600 Val Acc: 0.6886\n"
     ]
    },
    {
     "name": "stderr",
     "output_type": "stream",
     "text": [
      "Training: 95it [01:04,  1.47it/s]\n",
      "Validating: 10it [00:02,  3.94it/s]\n",
      "Epochs:  40%|████      | 8/20 [08:56<13:24, 67.07s/it]"
     ]
    },
    {
     "name": "stdout",
     "output_type": "stream",
     "text": [
      "Epoch: 8: Train Loss: 0.5328 Train Acc: 0.7297 Val Loss: 0.5234 Val Acc: 0.7416\n",
      "Model saved to 'SiameseNet_best.pth'\n"
     ]
    },
    {
     "name": "stderr",
     "output_type": "stream",
     "text": [
      "Training: 95it [01:04,  1.47it/s]\n",
      "Validating: 10it [00:02,  3.91it/s]\n",
      "Epochs:  45%|████▌     | 9/20 [10:03<12:18, 67.11s/it]"
     ]
    },
    {
     "name": "stdout",
     "output_type": "stream",
     "text": [
      "Epoch: 9: Train Loss: 0.5269 Train Acc: 0.7389 Val Loss: 0.4813 Val Acc: 0.7560\n",
      "Model saved to 'SiameseNet_best.pth'\n"
     ]
    },
    {
     "name": "stderr",
     "output_type": "stream",
     "text": [
      "Training: 95it [01:04,  1.48it/s]\n",
      "Validating: 10it [00:02,  3.96it/s]\n",
      "Epochs:  50%|█████     | 10/20 [11:10<11:10, 67.08s/it]"
     ]
    },
    {
     "name": "stdout",
     "output_type": "stream",
     "text": [
      "Epoch: 10: Train Loss: 0.5205 Train Acc: 0.7420 Val Loss: 0.4767 Val Acc: 0.7512\n",
      "Model saved to 'SiameseNet_best.pth'\n"
     ]
    },
    {
     "name": "stderr",
     "output_type": "stream",
     "text": [
      "Training: 95it [01:04,  1.47it/s]\n",
      "Validating: 10it [00:02,  3.90it/s]\n",
      "Epochs:  55%|█████▌    | 11/20 [12:18<10:03, 67.11s/it]"
     ]
    },
    {
     "name": "stdout",
     "output_type": "stream",
     "text": [
      "Epoch: 11: Train Loss: 0.5214 Train Acc: 0.7390 Val Loss: 0.5128 Val Acc: 0.7432\n"
     ]
    },
    {
     "name": "stderr",
     "output_type": "stream",
     "text": [
      "Training: 95it [01:04,  1.47it/s]\n",
      "Validating: 10it [00:02,  3.97it/s]\n",
      "Epochs:  60%|██████    | 12/20 [13:25<08:56, 67.08s/it]"
     ]
    },
    {
     "name": "stdout",
     "output_type": "stream",
     "text": [
      "Epoch: 12: Train Loss: 0.5094 Train Acc: 0.7524 Val Loss: 0.5078 Val Acc: 0.7352\n"
     ]
    },
    {
     "name": "stderr",
     "output_type": "stream",
     "text": [
      "Training: 95it [01:04,  1.47it/s]\n",
      "Validating: 10it [00:02,  4.02it/s]\n",
      "Epochs:  65%|██████▌   | 13/20 [14:32<07:49, 67.13s/it]"
     ]
    },
    {
     "name": "stdout",
     "output_type": "stream",
     "text": [
      "Epoch: 13: Train Loss: 0.4886 Train Acc: 0.7617 Val Loss: 0.5153 Val Acc: 0.7384\n"
     ]
    },
    {
     "name": "stderr",
     "output_type": "stream",
     "text": [
      "Training: 95it [01:04,  1.48it/s]\n",
      "Validating: 10it [00:02,  3.94it/s]\n",
      "Epochs:  70%|███████   | 14/20 [15:38<06:41, 66.97s/it]"
     ]
    },
    {
     "name": "stdout",
     "output_type": "stream",
     "text": [
      "Epoch 00014: reducing learning rate of group 0 to 1.0000e-05.\n",
      "Epoch: 14: Train Loss: 0.4835 Train Acc: 0.7662 Val Loss: 0.5445 Val Acc: 0.7303\n"
     ]
    },
    {
     "name": "stderr",
     "output_type": "stream",
     "text": [
      "Training: 95it [01:04,  1.48it/s]\n",
      "Validating: 10it [00:02,  3.82it/s]\n",
      "Epochs:  75%|███████▌  | 15/20 [16:45<05:34, 66.97s/it]"
     ]
    },
    {
     "name": "stdout",
     "output_type": "stream",
     "text": [
      "Epoch: 15: Train Loss: 0.4609 Train Acc: 0.7877 Val Loss: 0.5059 Val Acc: 0.7368\n"
     ]
    },
    {
     "name": "stderr",
     "output_type": "stream",
     "text": [
      "Training: 95it [01:04,  1.48it/s]\n",
      "Validating: 10it [00:02,  3.87it/s]\n",
      "Epochs:  80%|████████  | 16/20 [17:52<04:27, 66.90s/it]"
     ]
    },
    {
     "name": "stdout",
     "output_type": "stream",
     "text": [
      "Epoch: 16: Train Loss: 0.4403 Train Acc: 0.8008 Val Loss: 0.5088 Val Acc: 0.7432\n"
     ]
    },
    {
     "name": "stderr",
     "output_type": "stream",
     "text": [
      "Training: 95it [01:04,  1.48it/s]\n",
      "Validating: 10it [00:02,  3.95it/s]\n",
      "Epochs:  85%|████████▌ | 17/20 [18:59<03:20, 66.91s/it]"
     ]
    },
    {
     "name": "stdout",
     "output_type": "stream",
     "text": [
      "Epoch: 17: Train Loss: 0.4393 Train Acc: 0.7949 Val Loss: 0.4702 Val Acc: 0.7689\n",
      "Model saved to 'SiameseNet_best.pth'\n"
     ]
    },
    {
     "name": "stderr",
     "output_type": "stream",
     "text": [
      "Training: 95it [01:04,  1.48it/s]\n",
      "Validating: 10it [00:02,  3.98it/s]\n",
      "Epochs:  90%|█████████ | 18/20 [20:06<02:13, 66.86s/it]"
     ]
    },
    {
     "name": "stdout",
     "output_type": "stream",
     "text": [
      "Epoch: 18: Train Loss: 0.4157 Train Acc: 0.8070 Val Loss: 0.5107 Val Acc: 0.7512\n"
     ]
    },
    {
     "name": "stderr",
     "output_type": "stream",
     "text": [
      "Training: 95it [01:04,  1.48it/s]\n",
      "Validating: 10it [00:02,  3.92it/s]\n",
      "Epochs:  95%|█████████▌| 19/20 [21:13<01:06, 66.82s/it]"
     ]
    },
    {
     "name": "stdout",
     "output_type": "stream",
     "text": [
      "Epoch: 19: Train Loss: 0.4282 Train Acc: 0.7965 Val Loss: 0.4760 Val Acc: 0.7737\n"
     ]
    },
    {
     "name": "stderr",
     "output_type": "stream",
     "text": [
      "Training: 95it [01:04,  1.47it/s]\n",
      "Validating: 10it [00:02,  3.92it/s]\n",
      "Epochs: 100%|██████████| 20/20 [22:20<00:00, 67.01s/it]"
     ]
    },
    {
     "name": "stdout",
     "output_type": "stream",
     "text": [
      "Epoch: 20: Train Loss: 0.4125 Train Acc: 0.8038 Val Loss: 0.4648 Val Acc: 0.7833\n",
      "Model saved to 'SiameseNet_best.pth'\n"
     ]
    },
    {
     "name": "stderr",
     "output_type": "stream",
     "text": [
      "\n"
     ]
    }
   ],
   "source": [
    "# Hyperparameters and configuration\n",
    "config = {\n",
    "    'learning_rate': 0.0001,\n",
    "    'weight_decay': 5e-4,\n",
    "    'epochs': 20,\n",
    "    'batch_size': 64,\n",
    "    'device': 'cuda' if torch.cuda.is_available() else 'cpu',\n",
    "    'save_path': 'SiameseNet_best.pth'\n",
    "}\n",
    "\n",
    "# Create model and data loaders\n",
    "model = SiameseNet(resnet_truncated)\n",
    "train_loader = DataLoader(train_data, batch_size=config['batch_size'], shuffle=True)\n",
    "val_loader = DataLoader(val_data, batch_size=config['batch_size'], shuffle=False)\n",
    "\n",
    "# Train the model\n",
    "train_loss, train_acc, val_loss, val_acc = train_model(model, train_loader, val_loader, config)"
   ]
  },
  {
   "cell_type": "code",
   "execution_count": null,
   "metadata": {},
   "outputs": [],
   "source": [
    "torch.save(model.state_dict(), 'final.pth')"
   ]
  },
  {
   "cell_type": "code",
   "execution_count": 13,
   "metadata": {},
   "outputs": [
    {
     "data": {
      "image/png": "[encoded data removed]",
      "text/plain": [
       "<Figure size 1200x500 with 2 Axes>"
      ]
     },
     "metadata": {},
     "output_type": "display_data"
    }
   ],
   "source": [
    "plt.figure(figsize=(12, 5))\n",
    "plt.subplot(1, 2, 1)\n",
    "plt.plot(train_loss, label='Train Loss')\n",
    "plt.plot(val_loss, label='Validation Loss')\n",
    "plt.title('Loss over epochs')\n",
    "plt.legend()\n",
    "\n",
    "plt.subplot(1, 2, 2)\n",
    "plt.plot(train_acc, label='Train Accuracy')\n",
    "plt.plot(val_acc, label='Validation Accuracy')\n",
    "plt.title('Accuracy over epochs')\n",
    "plt.legend()\n",
    "\n",
    "plt.tight_layout()\n",
    "plt.show()"
   ]
  },
  {
   "cell_type": "code",
   "execution_count": 14,
   "metadata": {},
   "outputs": [
    {
     "name": "stderr",
     "output_type": "stream",
     "text": [
      "75it [00:19,  3.86it/s]\n"
     ]
    },
    {
     "name": "stdout",
     "output_type": "stream",
     "text": [
      "Test file: ss, test accuracy is: 66.9\n"
     ]
    },
    {
     "name": "stderr",
     "output_type": "stream",
     "text": [
      "232it [00:58,  3.97it/s]\n"
     ]
    },
    {
     "name": "stdout",
     "output_type": "stream",
     "text": [
      "Test file: ms, test accuracy is: 61.9\n"
     ]
    },
    {
     "name": "stderr",
     "output_type": "stream",
     "text": [
      "25it [00:06,  4.00it/s]\n"
     ]
    },
    {
     "name": "stdout",
     "output_type": "stream",
     "text": [
      "Test file: gfgs, test accuracy is: 54.7\n"
     ]
    },
    {
     "name": "stderr",
     "output_type": "stream",
     "text": [
      "152it [00:38,  3.95it/s]\n"
     ]
    },
    {
     "name": "stdout",
     "output_type": "stream",
     "text": [
      "Test file: sibs, test accuracy is: 61.6\n"
     ]
    },
    {
     "name": "stderr",
     "output_type": "stream",
     "text": [
      "23it [00:05,  3.94it/s]\n"
     ]
    },
    {
     "name": "stdout",
     "output_type": "stream",
     "text": [
      "Test file: gmgs, test accuracy is: 58.8\n"
     ]
    },
    {
     "name": "stderr",
     "output_type": "stream",
     "text": [
      "284it [01:12,  3.94it/s]\n"
     ]
    },
    {
     "name": "stdout",
     "output_type": "stream",
     "text": [
      "Test file: fs, test accuracy is: 59.8\n"
     ]
    },
    {
     "name": "stderr",
     "output_type": "stream",
     "text": [
      "14it [00:03,  4.12it/s]\n"
     ]
    },
    {
     "name": "stdout",
     "output_type": "stream",
     "text": [
      "Test file: gfgd, test accuracy is: 56.0\n"
     ]
    },
    {
     "name": "stderr",
     "output_type": "stream",
     "text": [
      "225it [00:57,  3.94it/s]\n"
     ]
    },
    {
     "name": "stdout",
     "output_type": "stream",
     "text": [
      "Test file: md, test accuracy is: 61.6\n"
     ]
    },
    {
     "name": "stderr",
     "output_type": "stream",
     "text": [
      "15it [00:03,  3.98it/s]\n"
     ]
    },
    {
     "name": "stdout",
     "output_type": "stream",
     "text": [
      "Test file: gmgd, test accuracy is: 58.4\n"
     ]
    },
    {
     "name": "stderr",
     "output_type": "stream",
     "text": [
      "285it [01:11,  3.97it/s]"
     ]
    },
    {
     "name": "stdout",
     "output_type": "stream",
     "text": [
      "Test file: bb, test accuracy is: 57.5\n"
     ]
    },
    {
     "name": "stderr",
     "output_type": "stream",
     "text": [
      "\n"
     ]
    }
   ],
   "source": [
    "class MyTestDataset(Dataset):\n",
    "    def __init__(self,root_path,df,transforms=None):\n",
    "        super(MyTestDataset,self).__init__()\n",
    "        self.df = df\n",
    "        self.root_path = root_path\n",
    "        self.transforms = transforms\n",
    "    \n",
    "    def __len__(self):\n",
    "        return len(self.df)\n",
    "    \n",
    "    def __getitem__(self,idx):\n",
    "        p1 = self.df.iloc[idx]['p1']\n",
    "        p2 = self.df.iloc[idx]['p2']\n",
    "        \n",
    "        \n",
    "        p1_path = os.path.join(self.root_path,p1)\n",
    "        p2_path = os.path.join(self.root_path,p2)\n",
    "        \n",
    "        img1 = Image.open(p1_path).convert('RGB')\n",
    "        img2 = Image.open(p2_path).convert('RGB')\n",
    "        \n",
    "        if self.transforms:\n",
    "            img1 = self.transforms(img1)\n",
    "            img2 = self.transforms(img2)\n",
    "            \n",
    "        return img1,img2\n",
    "    \n",
    "\n",
    "\n",
    "def test_csv(test_name,img_root_path,test_list_path,test_label_path):\n",
    "    test_root_path = img_root_path\n",
    "    test_path = test_list_path\n",
    "    test_df = pd.read_csv(test_path)\n",
    "    test_data = MyTestDataset(test_root_path,test_df,valid_transformation)\n",
    "    test_loader = DataLoader(test_data,shuffle=False,batch_size = 64)\n",
    "    result = []\n",
    "    for batch_i,(test_batch1,test_batch2) in tqdm(enumerate(test_loader)):\n",
    "        test_batch1,test_batch2 = test_batch1.to(device),test_batch2.to(device)\n",
    "        output = model(test_batch1,test_batch2).argmax(dim=-1)\n",
    "        output = output.detach().cpu().numpy().tolist()\n",
    "        result.extend(output)\n",
    "    truth_path = test_label_path\n",
    "    test_truth_df = pd.read_csv(truth_path)\n",
    "    test_truth = test_truth_df['label'].to_numpy().tolist()\n",
    "    test_accuracy = accuracy_score(test_truth,result) * 100\n",
    "    print(f'Test file: {test_name}, test accuracy is: {test_accuracy:2.1f}')\n",
    "\n",
    "\n",
    "test_img_path = 'test-private-faces'\n",
    "test_info_path = 'test-private-lists'\n",
    "test_label_path = 'test-private-labels'\n",
    "test_dict = {}\n",
    "for dir,_,test_list in os.walk(test_info_path):\n",
    "    for f in test_list:\n",
    "        if f.endswith('.csv'):\n",
    "            list_name = f.replace('.csv','')\n",
    "            if list_name not in test_dict:\n",
    "                test_dict[list_name] = [os.path.join(dir,f)]\n",
    "            else:\n",
    "                test_dict[list_name].append(os.path.join(dir,f))\n",
    "for dir,_,test_list in os.walk(test_label_path):\n",
    "    for f in test_list:\n",
    "        if f.endswith('.csv'):\n",
    "            list_name = f.replace('.csv','')\n",
    "            if list_name not in test_dict:\n",
    "                test_dict[list_name] = [os.path.join(dir,f)]\n",
    "            else:\n",
    "                test_dict[list_name].append(os.path.join(dir,f))\n",
    "for k,v in test_dict.items():\n",
    "    if k != 'fd':\n",
    "        test_csv(k,test_img_path,v[0],v[1])"
   ]
  }
 ],
 "metadata": {
  "kernelspec": {
   "display_name": "mdc_vllm",
   "language": "python",
   "name": "python3"
  },
  "language_info": {
   "codemirror_mode": {
    "name": "ipython",
    "version": 3
   },
   "file_extension": ".py",
   "mimetype": "text/x-python",
   "name": "python",
   "nbconvert_exporter": "python",
   "pygments_lexer": "ipython3",
   "version": "3.11.4"
  }
 },
 "nbformat": 4,
 "nbformat_minor": 2
}
