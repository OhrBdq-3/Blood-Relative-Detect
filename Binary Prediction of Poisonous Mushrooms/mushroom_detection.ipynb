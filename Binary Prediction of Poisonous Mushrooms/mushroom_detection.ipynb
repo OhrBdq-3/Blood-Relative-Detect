{
 "cells": [
  {
   "cell_type": "code",
   "execution_count": null,
   "metadata": {},
   "outputs": [],
   "source": [
    "import pandas as pd\n",
    "import warnings\n",
    "from sklearn.preprocessing import StandardScaler\n",
    "from sklearn.preprocessing import LabelEncoder\n",
    "from sklearn.model_selection import train_test_split\n",
    "import torch\n",
    "import torch.nn as nn\n",
    "from torch.utils.data import Dataset,DataLoader\n",
    "import torch.nn.functional as F\n",
    "\n",
    "warnings.filterwarnings('ignore')"
   ]
  },
  {
   "cell_type": "code",
   "execution_count": null,
   "metadata": {},
   "outputs": [],
   "source": [
    "train_data_path = 'train.csv'\n",
    "df = pd.read_csv(train_data_path)"
   ]
  },
  {
   "cell_type": "code",
   "execution_count": null,
   "metadata": {},
   "outputs": [],
   "source": [
    "# Check for columns that are entirely NaN\n",
    "all_nan_columns = df.columns[df.isnull().all()].tolist()\n",
    "\n",
    "if all_nan_columns:\n",
    "    print(\"Columns that are entirely NaN:\")\n",
    "    for col in all_nan_columns:\n",
    "        print(f\"- {col}\")\n",
    "else:\n",
    "    print(\"No columns are entirely NaN.\")\n",
    "\n",
    "nan_percentage = df.isnull().mean() * 100\n",
    "\n",
    "print(\"\\nPercentage of NaN values in each column:\")\n",
    "print(nan_percentage)\n",
    "\n",
    "high_nan_columns = nan_percentage[nan_percentage > 50].sort_values(ascending=False)\n",
    "\n",
    "if not high_nan_columns.empty:\n",
    "    print(\"\\nColumns with more than 90% NaN values:\")\n",
    "    print(high_nan_columns)\n",
    "else:\n",
    "    print(\"\\nNo columns have more than 90% NaN values.\")\n",
    "drop_cols = high_nan_columns.index.tolist()\n",
    "df = df.drop(columns=drop_cols)"
   ]
  },
  {
   "cell_type": "code",
   "execution_count": null,
   "metadata": {},
   "outputs": [],
   "source": [
    "LABEL = 'class'\n",
    "label_2_class = {\n",
    "    'e':1,\n",
    "    'p':0\n",
    "}\n",
    "\n",
    "df['label'] = df[LABEL].apply(lambda x: label_2_class[x])\n",
    "df_filled = df.fillna('Missing')"
   ]
  },
  {
   "cell_type": "code",
   "execution_count": null,
   "metadata": {},
   "outputs": [],
   "source": [
    "label_encoder = LabelEncoder()\n",
    "features_encoding = [f for f in df_filled if f not in ['label','id','class','cap-diameter','stem-height','stem-width']]\n",
    "for f in features_encoding:\n",
    "    df_filled[f] = label_encoder.fit_transform(df_filled[f])\n",
    "df_feats = df_filled[features_encoding+['cap-diameter','stem-height','stem-width','label']]\n",
    "df_feats = df_filled[features_encoding+['cap-diameter','stem-height','stem-width','label']]\n",
    "\n",
    "standard_scaler = StandardScaler()\n",
    "df_feats[features_encoding] = standard_scaler.fit_transform(df_feats[features_encoding])"
   ]
  },
  {
   "cell_type": "code",
   "execution_count": null,
   "metadata": {},
   "outputs": [],
   "source": [
    "label = 'label'\n",
    "features = [f for f in df_feats if f not in [label]]\n",
    "print(features,label)"
   ]
  },
  {
   "cell_type": "code",
   "execution_count": null,
   "metadata": {},
   "outputs": [],
   "source": [
    "df_feats = df_feats[df_feats['cap-diameter'] != 'Missing']"
   ]
  },
  {
   "cell_type": "code",
   "execution_count": null,
   "metadata": {},
   "outputs": [],
   "source": [
    "X_train, X_test, y_train, y_test = train_test_split(df_feats[features],df_feats[label],test_size=0.2,random_state=42)"
   ]
  },
  {
   "cell_type": "code",
   "execution_count": null,
   "metadata": {},
   "outputs": [],
   "source": [
    "class MyDataset(Dataset):\n",
    "    def __init__(self,X,y):\n",
    "        super(MyDataset,self).__init__()\n",
    "        self.X = torch.tensor(X.astype(float),dtype=torch.float32)\n",
    "        self.y = torch.tensor(y,dtype=torch.long)\n",
    "        \n",
    "    def __len__(self):\n",
    "        return len(self.X)\n",
    "    \n",
    "    def __getitem__(self,idx):\n",
    "        return self.X[idx] ,self.y[idx]\n",
    "\n",
    "X_train_np = X_train.to_numpy()\n",
    "y_train_np = y_train.to_numpy()\n",
    "X_test_np = X_test.to_numpy()\n",
    "y_test_np = y_test.to_numpy()\n",
    "\n",
    "train_data = MyDataset(X_train_np,y_train_np)\n",
    "test_data = MyDataset(X_test_np,y_test_np)\n",
    "train_loader = DataLoader(train_data,batch_size=32,shuffle=True)\n",
    "test_loader = DataLoader(test_data,batch_size=32,shuffle=False)\n",
    "data_iter = iter(train_loader)\n",
    "example_data,example_label = next(data_iter)\n",
    "example_data.shape"
   ]
  },
  {
   "cell_type": "code",
   "execution_count": null,
   "metadata": {},
   "outputs": [],
   "source": [
    "class MyNet(nn.Module):\n",
    "    def __init__(self):\n",
    "        super(MyNet,self).__init__()\n",
    "        self.fc1 = nn.Linear(20,512)\n",
    "        self.fc2 = nn.Linear(512,64)\n",
    "        self.fc3 = nn.Linear(64,2)\n",
    "        \n",
    "    def forward(self,x):\n",
    "        x = F.relu(self.fc1(x))\n",
    "        x = F.relu(self.fc2(x))\n",
    "        x = self.fc3(x)\n",
    "        return x\n",
    "\n",
    "model = MyNet()\n",
    "optimizer = torch.optim.Adam(model.parameters(),lr=0.001)\n",
    "criterion = nn.CrossEntropyLoss()\n",
    "epochs = 30\n",
    "for epoch in range(epochs):\n",
    "    total_loss = 0\n",
    "    num_data = 0\n",
    "    total_correct = 0\n",
    "    for data,label in train_loader:\n",
    "        output = model(data)\n",
    "        loss = criterion(output,label)\n",
    "        optimizer.zero_grad()\n",
    "        loss.backward()\n",
    "        optimizer.step()\n",
    "        total_loss += loss.items() * label.shape[0]\n",
    "        num_data += label.shape[0]\n",
    "        total_correct += sum(output.argmax(dim=1) == label)\n",
    "    print(f'Epoch:{epoch+1},Loss:{total_loss/num_data},Acc:{total_correct/num_data}')\n",
    "    print('\\n--------------- validation ---------------\\n')\n",
    "    val_loss = 0\n",
    "    num_val = 0\n",
    "    val_correct = 0\n",
    "    for val_data,val_label in test_loader:\n",
    "        val_output = model(val_data)\n",
    "        loss = criterion(val_output,val_label)\n",
    "        val_loss += loss.items() * val_label.shape[0]\n",
    "        num_val += val_label.shape[0]\n",
    "        val_correct += sum(val_output.argmax(dim=1) == val_label)\n",
    "    print(f'Epoch:{epoch+1},Loss:{val_loss/num_val},Acc:{val_correct/num_val}')"
   ]
  }
 ],
 "metadata": {
  "kernelspec": {
   "display_name": "mdchat",
   "language": "python",
   "name": "python3"
  },
  "language_info": {
   "codemirror_mode": {
    "name": "ipython",
    "version": 3
   },
   "file_extension": ".py",
   "mimetype": "text/x-python",
   "name": "python",
   "nbconvert_exporter": "python",
   "pygments_lexer": "ipython3",
   "version": "3.12.2"
  }
 },
 "nbformat": 4,
 "nbformat_minor": 2
}
